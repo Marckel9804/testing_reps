{
 "cells": [
  {
   "cell_type": "markdown",
   "metadata": {},
   "source": [
    "### 네이버 웹툰 url 크롤링"
   ]
  },
  {
   "cell_type": "code",
   "execution_count": null,
   "metadata": {},
   "outputs": [],
   "source": [
    "import requests\n",
    "from bs4 import BeautifulSoup\n",
    "\n",
    "URL_TOTAL_LIST = 'https://comic.naver.com/webtoon/weekday.nhn'\n",
    "\n",
    "response = requests.get(URL_TOTAL_LIST)\n",
    "\n",
    "soup = BeautifulSoup(response.text, 'html.parser')\n",
    "\n",
    "class_title_a_list = soup.select('a.title')\n",
    "\n",
    "title_list = []\n",
    "\n",
    "for a in class_title_a_list:\n",
    "    a_href = a.get('href') # a['href']\n",
    "    a_text = a.get_text()\n",
    "    result = f'{a_text} (https://comic.naver.com/{a_href})'\n",
    "    title_list.append(result)\n",
    "\n",
    "title_list"
   ]
  },
  {
   "cell_type": "markdown",
   "metadata": {},
   "source": [
    "# 각 url(덴마)의 최근 10화 제목+평점+등록일 2중 리스트로 만들기"
   ]
  },
  {
   "cell_type": "code",
   "execution_count": 89,
   "metadata": {},
   "outputs": [
    {
     "data": {
      "text/plain": [
       "[['3-406화 2.에필로그(4-3)', 4.31, '2019.12.11'],\n",
       " ['3-405화 2.에필로그(4-2)', 6.96, '2019.12.08'],\n",
       " ['3-404화 2.에필로그(4-1)', 7.2, '2019.12.06'],\n",
       " ['3-403화 2.에필로그(3-29)', 7.5, '2019.12.04'],\n",
       " ['3-402화 2.에필로그(3-28)', 7.73, '2019.12.02'],\n",
       " ['3-401화 2.에필로그(3-27)', 6.98, '2019.11.30'],\n",
       " ['3-400화 2.에필로그(3-26)', 7.6, '2019.11.27'],\n",
       " ['3-399화 2.에필로그(3-25)', 6.36, '2019.11.25'],\n",
       " ['3-398화 2.에필로그(3-24)', 7.26, '2019.11.23']]"
      ]
     },
     "execution_count": 89,
     "metadata": {},
     "output_type": "execute_result"
    }
   ],
   "source": [
    "from bs4 import BeautifulSoup\n",
    "import requests\n",
    "import pandas as pd\n",
    "\n",
    "from bs4 import BeautifulSoup\n",
    "from urllib.request import urlopen\n",
    "import re\n",
    "\n",
    "URL = 'https://comic.naver.com/webtoon/list.nhn?titleId=119874&weekday=sun'\n",
    "response = requests.get(URL)\n",
    "soup = BeautifulSoup(response.text, 'html.parser')\n",
    "\n",
    "\n",
    "\n",
    "table=soup.find('table',{'class':'viewList'})\n",
    "tr = table.find_all('tr')\n",
    "\n",
    "sw=0\n",
    "list=[]\n",
    "\n",
    "for i in tr:\n",
    "    if sw<=1:\n",
    "        sw=sw+1\n",
    "        continue\n",
    "        \n",
    "    tds=i.find_all('td')\n",
    "    \n",
    "    result=[]\n",
    "    cnt=0\n",
    "    \n",
    "    for td in tds:\n",
    "        \n",
    "        td=str(td)\n",
    "        td=re.sub('<.+?>', '', td, 0).strip()\n",
    "        if cnt == 2:\n",
    "            s=td.strip(\"평점\\n\")[0]\n",
    "            s1=td.strip(\"평점\\n\")[1]\n",
    "            s2=td.strip(\"평점\\n\")[2]\n",
    "            s3=td.strip(\"평점\\n\")[3]\n",
    "            s4=s+s1+s2+s3\n",
    "            result.append(float(s4))\n",
    "        if cnt != 0 and cnt !=2:\n",
    "            result.append(td)\n",
    "        cnt=cnt+1\n",
    "    list.append(result)\n",
    "    \n",
    "list\n"
   ]
  },
  {
   "cell_type": "markdown",
   "metadata": {},
   "source": [
    "# 주요정보 딕셔너리로 변환후 df만들기"
   ]
  },
  {
   "cell_type": "code",
   "execution_count": 99,
   "metadata": {},
   "outputs": [
    {
     "data": {
      "text/html": [
       "<div>\n",
       "<style scoped>\n",
       "    .dataframe tbody tr th:only-of-type {\n",
       "        vertical-align: middle;\n",
       "    }\n",
       "\n",
       "    .dataframe tbody tr th {\n",
       "        vertical-align: top;\n",
       "    }\n",
       "\n",
       "    .dataframe thead th {\n",
       "        text-align: right;\n",
       "    }\n",
       "</style>\n",
       "<table border=\"1\" class=\"dataframe\">\n",
       "  <thead>\n",
       "    <tr style=\"text-align: right;\">\n",
       "      <th></th>\n",
       "      <th>title</th>\n",
       "      <th>score</th>\n",
       "      <th>day</th>\n",
       "      <th>month</th>\n",
       "      <th>year</th>\n",
       "    </tr>\n",
       "  </thead>\n",
       "  <tbody>\n",
       "    <tr>\n",
       "      <th>0</th>\n",
       "      <td>3-406화 2.에필로그(4-3)</td>\n",
       "      <td>4.31</td>\n",
       "      <td>11</td>\n",
       "      <td>12</td>\n",
       "      <td>2019</td>\n",
       "    </tr>\n",
       "    <tr>\n",
       "      <th>1</th>\n",
       "      <td>3-405화 2.에필로그(4-2)</td>\n",
       "      <td>6.96</td>\n",
       "      <td>08</td>\n",
       "      <td>12</td>\n",
       "      <td>2019</td>\n",
       "    </tr>\n",
       "    <tr>\n",
       "      <th>2</th>\n",
       "      <td>3-404화 2.에필로그(4-1)</td>\n",
       "      <td>7.20</td>\n",
       "      <td>06</td>\n",
       "      <td>12</td>\n",
       "      <td>2019</td>\n",
       "    </tr>\n",
       "    <tr>\n",
       "      <th>3</th>\n",
       "      <td>3-403화 2.에필로그(3-29)</td>\n",
       "      <td>7.50</td>\n",
       "      <td>04</td>\n",
       "      <td>12</td>\n",
       "      <td>2019</td>\n",
       "    </tr>\n",
       "    <tr>\n",
       "      <th>4</th>\n",
       "      <td>3-402화 2.에필로그(3-28)</td>\n",
       "      <td>7.73</td>\n",
       "      <td>02</td>\n",
       "      <td>12</td>\n",
       "      <td>2019</td>\n",
       "    </tr>\n",
       "    <tr>\n",
       "      <th>5</th>\n",
       "      <td>3-401화 2.에필로그(3-27)</td>\n",
       "      <td>6.98</td>\n",
       "      <td>30</td>\n",
       "      <td>11</td>\n",
       "      <td>2019</td>\n",
       "    </tr>\n",
       "    <tr>\n",
       "      <th>6</th>\n",
       "      <td>3-400화 2.에필로그(3-26)</td>\n",
       "      <td>7.60</td>\n",
       "      <td>27</td>\n",
       "      <td>11</td>\n",
       "      <td>2019</td>\n",
       "    </tr>\n",
       "    <tr>\n",
       "      <th>7</th>\n",
       "      <td>3-399화 2.에필로그(3-25)</td>\n",
       "      <td>6.36</td>\n",
       "      <td>25</td>\n",
       "      <td>11</td>\n",
       "      <td>2019</td>\n",
       "    </tr>\n",
       "    <tr>\n",
       "      <th>8</th>\n",
       "      <td>3-398화 2.에필로그(3-24)</td>\n",
       "      <td>7.26</td>\n",
       "      <td>23</td>\n",
       "      <td>11</td>\n",
       "      <td>2019</td>\n",
       "    </tr>\n",
       "  </tbody>\n",
       "</table>\n",
       "</div>"
      ],
      "text/plain": [
       "                 title  score day month  year\n",
       "0   3-406화 2.에필로그(4-3)   4.31  11    12  2019\n",
       "1   3-405화 2.에필로그(4-2)   6.96  08    12  2019\n",
       "2   3-404화 2.에필로그(4-1)   7.20  06    12  2019\n",
       "3  3-403화 2.에필로그(3-29)   7.50  04    12  2019\n",
       "4  3-402화 2.에필로그(3-28)   7.73  02    12  2019\n",
       "5  3-401화 2.에필로그(3-27)   6.98  30    11  2019\n",
       "6  3-400화 2.에필로그(3-26)   7.60  27    11  2019\n",
       "7  3-399화 2.에필로그(3-25)   6.36  25    11  2019\n",
       "8  3-398화 2.에필로그(3-24)   7.26  23    11  2019"
      ]
     },
     "execution_count": 99,
     "metadata": {},
     "output_type": "execute_result"
    }
   ],
   "source": [
    "from bs4 import BeautifulSoup\n",
    "import requests\n",
    "import pandas as pd\n",
    "\n",
    "from bs4 import BeautifulSoup\n",
    "from urllib.request import urlopen\n",
    "import re\n",
    "\n",
    "URL = 'https://comic.naver.com/webtoon/list.nhn?titleId=119874&weekday=sun'\n",
    "response = requests.get(URL)\n",
    "soup = BeautifulSoup(response.text, 'html.parser')\n",
    "\n",
    "\n",
    "\n",
    "table=soup.find('table',{'class':'viewList'})\n",
    "tr = table.find_all('tr')\n",
    "\n",
    "sw=0\n",
    "\n",
    "title=[]\n",
    "score=[]\n",
    "day=[]\n",
    "month=[]\n",
    "year=[]\n",
    "\n",
    "for i in tr:\n",
    "    if sw<=1:\n",
    "        sw=sw+1\n",
    "        continue\n",
    "        \n",
    "    tds=i.find_all('td')  \n",
    "    \n",
    "    cnt=0\n",
    "    for td in tds:\n",
    "        \n",
    "        td=str(td)\n",
    "        td=re.sub('<.+?>', '', td, 0).strip()\n",
    "        if cnt ==1:\n",
    "            title.append(td)\n",
    "        if cnt==3:\n",
    "            d=td.strip('.')\n",
    "            y=d[0]+d[1]+d[2]+d[3]\n",
    "            d_re=d[8]+d[9]\n",
    "            m=d[5]+d[6]\n",
    "            month.append(m)\n",
    "            year.append(y)\n",
    "            day.append(d_re)\n",
    "            \n",
    "        if cnt == 2:\n",
    "            s=td.strip(\"평점\\n\")\n",
    "            s_re=s[0]+s[1]+s[2]+s[3]\n",
    "            score.append(float(s_re))\n",
    "        cnt=cnt+1\n",
    "\n",
    "dic={'title':title,'score':score,'day':day,'month':month,'year':year}\n",
    "df=pd.DataFrame.from_dict(dic)\n",
    "df"
   ]
  },
  {
   "cell_type": "markdown",
   "metadata": {},
   "source": [
    "# groupby를 통한 월별 점수 평균"
   ]
  },
  {
   "cell_type": "code",
   "execution_count": 103,
   "metadata": {},
   "outputs": [
    {
     "data": {
      "text/plain": [
       "{'11': Int64Index([5, 6, 7, 8], dtype='int64'),\n",
       " '12': Int64Index([0, 1, 2, 3, 4], dtype='int64')}"
      ]
     },
     "execution_count": 103,
     "metadata": {},
     "output_type": "execute_result"
    }
   ],
   "source": [
    "g_month=df.groupby('month')\n",
    "g_month.groups"
   ]
  },
  {
   "cell_type": "code",
   "execution_count": 106,
   "metadata": {},
   "outputs": [
    {
     "name": "stdout",
     "output_type": "stream",
     "text": [
      "month\n",
      "11    7.05\n",
      "12    6.74\n",
      "Name: score, dtype: float64\n"
     ]
    }
   ],
   "source": [
    "def my_mean(values):\n",
    "    n = len(values)\n",
    "    \n",
    "    sum = 0 \n",
    "    for value in values:\n",
    "        sum += value\n",
    "    \n",
    "    return sum / n\n",
    "agg_my_mean = df.groupby('month').score.agg(my_mean) \n",
    "print(agg_my_mean)"
   ]
  },
  {
   "cell_type": "markdown",
   "metadata": {},
   "source": [
    "# 점수 그래프"
   ]
  },
  {
   "cell_type": "code",
   "execution_count": 111,
   "metadata": {},
   "outputs": [
    {
     "data": {
      "text/plain": [
       "[<matplotlib.lines.Line2D at 0x237985bbda0>]"
      ]
     },
     "execution_count": 111,
     "metadata": {},
     "output_type": "execute_result"
    },
    {
     "data": {
      "image/png": "[encoded data removed]",
      "text/plain": [
       "<Figure size 720x288 with 1 Axes>"
      ]
     },
     "metadata": {
      "needs_background": "light"
     },
     "output_type": "display_data"
    }
   ],
   "source": [
    "import pandas as pd\n",
    "import matplotlib.pyplot as plt\n",
    "from numpy import NaN\n",
    "\n",
    "fig = plt.figure(figsize=(10,4))\n",
    "axis = fig.add_subplot(111)\n",
    "subset=df[df.year == '2019']\n",
    "axis.plot(subset['day'], subset['score'])"
   ]
  },
  {
   "cell_type": "code",
   "execution_count": null,
   "metadata": {},
   "outputs": [],
   "source": []
  }
 ],
 "metadata": {
  "kernelspec": {
   "display_name": "Python 3",
   "language": "python",
   "name": "python3"
  },
  "language_info": {
   "codemirror_mode": {
    "name": "ipython",
    "version": 3
   },
   "file_extension": ".py",
   "mimetype": "text/x-python",
   "name": "python",
   "nbconvert_exporter": "python",
   "pygments_lexer": "ipython3",
   "version": "3.7.3"
  }
 },
 "nbformat": 4,
 "nbformat_minor": 2
}
